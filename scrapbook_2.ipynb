{
 "cells": [
  {
   "cell_type": "code",
   "execution_count": 1,
   "metadata": {},
   "outputs": [
    {
     "name": "stdout",
     "output_type": "stream",
     "text": [
      "Requirement already satisfied: pandasql in /opt/conda/lib/python3.7/site-packages (0.7.3)\n",
      "Requirement already satisfied: numpy in /opt/conda/lib/python3.7/site-packages (from pandasql) (1.21.6)\n",
      "Requirement already satisfied: sqlalchemy in /opt/conda/lib/python3.7/site-packages (from pandasql) (1.3.13)\n",
      "Requirement already satisfied: pandas in /opt/conda/lib/python3.7/site-packages (from pandasql) (1.0.1)\n",
      "Requirement already satisfied: pytz>=2017.2 in /opt/conda/lib/python3.7/site-packages (from pandas->pandasql) (2019.3)\n",
      "Requirement already satisfied: python-dateutil>=2.6.1 in /opt/conda/lib/python3.7/site-packages (from pandas->pandasql) (2.8.1)\n",
      "Requirement already satisfied: six>=1.5 in /opt/conda/lib/python3.7/site-packages (from python-dateutil>=2.6.1->pandas->pandasql) (1.14.0)\n",
      "\u001b[33mWARNING: Running pip as the 'root' user can result in broken permissions and conflicting behaviour with the system package manager. It is recommended to use a virtual environment instead: https://pip.pypa.io/warnings/venv\u001b[0m\u001b[33m\n",
      "\u001b[0mNote: you may need to restart the kernel to use updated packages.\n"
     ]
    }
   ],
   "source": [
    "import sagemaker\n",
    "import boto3\n",
    "from sagemaker import get_execution_role\n",
    "\n",
    "import pandas as pd\n",
    "import numpy as np\n",
    "import sys\n",
    "%pip install pandasql\n",
    "from pandasql import sqldf\n",
    "\n",
    "sys.path.extend(['../src/preprocess', '../config'])\n",
    "\n",
    "region = boto3.Session().region_name\n",
    "session = sagemaker.Session()\n",
    "sm = boto3.Session().client(service_name='sagemaker',region_name=region)\n",
    "\n",
    "import helpers.instance as ins\n",
    "import helpers.s3 as s3_helper\n",
    "import helpers.utils as ut\n",
    "import helpers.athena as at\n",
    "\n",
    "# READ YAML FILES AND STORE RELEVANT PATHS in dictionaries\n",
    "dataset_cfg = ins.read_config('../config/datasets.yaml') \n",
    "config_cfg = ins.read_config('../config/config.yaml')\n",
    "sql_cfg = ins.read_config('../config/sql.yaml')"
   ]
  },
  {
   "cell_type": "code",
   "execution_count": 2,
   "metadata": {},
   "outputs": [],
   "source": [
    "join_on1 = ['unit_num', 'partition_key']\n",
    "join_on2 = ['unit_num']\n",
    "joining = 'left'"
   ]
  },
  {
   "cell_type": "code",
   "execution_count": 3,
   "metadata": {},
   "outputs": [
    {
     "data": {
      "text/plain": [
       "'us-east-1'"
      ]
     },
     "execution_count": 3,
     "metadata": {},
     "output_type": "execute_result"
    }
   ],
   "source": [
    "region = boto3.Session().region_name\n",
    "region"
   ]
  },
  {
   "cell_type": "code",
   "execution_count": 4,
   "metadata": {},
   "outputs": [],
   "source": [
    "input_files = [dataset_cfg['raw']['repair_base']['input_file'], dataset_cfg['raw']['base_query']['input_file'], dataset_cfg['raw']['engine_hours']['input_file'], dataset_cfg['raw']['postsaleissue']['input_file']]\n",
    "output_paths = [dataset_cfg['raw']['repair_base']['output_paths'], dataset_cfg['raw']['base_query']['output_paths'], dataset_cfg['raw']['engine_hours']['output_paths'], dataset_cfg['raw']['postsaleissue']['output_paths']]"
   ]
  },
  {
   "cell_type": "code",
   "execution_count": 5,
   "metadata": {},
   "outputs": [],
   "source": [
    "# passing Athena variables\n",
    "database=['ptledw_playarea', 'ptl_maintenance', 'ptl_connfleet', 'proactive_maint_db', 'ptl_adhoc']\n",
    "workgroup='WG-Advanalytics'\n",
    "tablename=['d_location_master','constellation_rules','ufch_depup', 'archive_pd_inference_scenario']\n",
    "#query_string = 'select * from ptl_maintenance.constellation_rules'\n",
    "#query_string = 'select * from {}.{}'.format(database[0],tablename[0])\n",
    "# 'select * from ptledw_playarea.d_location_master'"
   ]
  },
  {
   "cell_type": "code",
   "execution_count": null,
   "metadata": {},
   "outputs": [],
   "source": []
  },
  {
   "cell_type": "code",
   "execution_count": 6,
   "metadata": {},
   "outputs": [],
   "source": [
    "prepped_base_query = s3_helper.read_parquet_from_path('s3://pske-stg-advanalytics/Projects/Unit_Sale_Risk_Interns/Data/Processed/base_query_prepped/')\n",
    "\n",
    "prepped_repair_base = s3_helper.read_parquet_from_path('s3://pske-stg-advanalytics/Projects/Unit_Sale_Risk_Interns/Data/Processed/repair_base_cleaned/')\n",
    "\n",
    "join_on1 = ['unit_num', 'partition_key']\n",
    "join_on2 = ['unit_num']\n",
    "joining = 'left'"
   ]
  },
  {
   "cell_type": "code",
   "execution_count": 7,
   "metadata": {},
   "outputs": [
    {
     "ename": "AttributeError",
     "evalue": "module 'helpers.utils' has no attribute 'join'",
     "output_type": "error",
     "traceback": [
      "\u001b[0;31m---------------------------------------------------------------------------\u001b[0m",
      "\u001b[0;31mAttributeError\u001b[0m                            Traceback (most recent call last)",
      "\u001b[0;32m<ipython-input-7-7b0198db43c6>\u001b[0m in \u001b[0;36m<module>\u001b[0;34m\u001b[0m\n\u001b[0;32m----> 1\u001b[0;31m \u001b[0mbased_prepped_joined\u001b[0m \u001b[0;34m=\u001b[0m \u001b[0mut\u001b[0m\u001b[0;34m.\u001b[0m\u001b[0mjoin\u001b[0m\u001b[0;34m(\u001b[0m\u001b[0mprepped_df\u001b[0m\u001b[0;34m=\u001b[0m\u001b[0mprepped_base_query\u001b[0m\u001b[0;34m,\u001b[0m \u001b[0mprepped_df2\u001b[0m\u001b[0;34m=\u001b[0m\u001b[0mprepped_repair_base\u001b[0m\u001b[0;34m,\u001b[0m \u001b[0mkeycolumns\u001b[0m\u001b[0;34m=\u001b[0m\u001b[0mjoin_on1\u001b[0m\u001b[0;34m,\u001b[0m \u001b[0mjointype\u001b[0m\u001b[0;34m=\u001b[0m\u001b[0mjoining\u001b[0m\u001b[0;34m)\u001b[0m\u001b[0;34m\u001b[0m\u001b[0;34m\u001b[0m\u001b[0m\n\u001b[0m\u001b[1;32m      2\u001b[0m \u001b[0mbased_prepped_joined\u001b[0m\u001b[0;34m\u001b[0m\u001b[0;34m\u001b[0m\u001b[0m\n\u001b[1;32m      3\u001b[0m \u001b[0;31m#base_repair_joined_path = 's3://pske-stg-advanalytics/Projects/Unit_Sale_Risk_Interns/Data/Processed/based_prepped_joined/'\u001b[0m\u001b[0;34m\u001b[0m\u001b[0;34m\u001b[0m\u001b[0;34m\u001b[0m\u001b[0m\n\u001b[1;32m      4\u001b[0m \u001b[0;31m#s3_helper.persist_file_to_path(df=base_repair_joined, path=base_repair_joined_path, filetype='parquet')\u001b[0m\u001b[0;34m\u001b[0m\u001b[0;34m\u001b[0m\u001b[0;34m\u001b[0m\u001b[0m\n",
      "\u001b[0;31mAttributeError\u001b[0m: module 'helpers.utils' has no attribute 'join'"
     ]
    }
   ],
   "source": [
    "based_prepped_joined = ut.join(prepped_df=prepped_base_query, prepped_df2=prepped_repair_base, keycolumns=join_on1, jointype=joining)\n",
    "based_prepped_joined\n",
    "#base_repair_joined_path = 's3://pske-stg-advanalytics/Projects/Unit_Sale_Risk_Interns/Data/Processed/based_prepped_joined/'\n",
    "#s3_helper.persist_file_to_path(df=base_repair_joined, path=base_repair_joined_path, filetype='parquet')"
   ]
  },
  {
   "cell_type": "code",
   "execution_count": null,
   "metadata": {},
   "outputs": [],
   "source": [
    "replacing = ['labor_hours', 'parts_cost', 'labor_cost', 'outside_cost', 'major_pm', 'big_repair', 'accidentsinci', 'total_repairs']\n",
    "\n",
    "based_prepped_joined_prepared = ut.removing_blanks(df=based_prepped_joined, column_list=replacing)\n",
    "based_prepped_joined_prepared\n",
    "\n",
    "#new_path = 's3://pske-stg-advanalytics/Projects/Unit_Sale_Risk_Interns/Data/Processed/base_repair_roadcall/'\n",
    "#s3_helper.persist_file_to_path(df=base_repair_roadcall, path=new_path, filetype='parquet')"
   ]
  },
  {
   "cell_type": "code",
   "execution_count": null,
   "metadata": {},
   "outputs": [],
   "source": [
    "s3_helper.read_parquet_from_path('s3://pske-stg-advanalytics/Projects/Unit_Sale_Risk_Interns/Data/Processed/repair_base_cleaned/')"
   ]
  },
  {
   "cell_type": "code",
   "execution_count": null,
   "metadata": {},
   "outputs": [],
   "source": [
    "prepped_roadcalls = s3_helper.read_parquet_from_path('s3://pske-stg-advanalytics/Projects/Unit_Sale_Risk_Interns/Data/Processed/roadcalls_prepped/')\n",
    "\n",
    "base_repair_roadcall = ut.join(prepped_df=based_prepped_joined_prepared, prepped_df2=prepped_roadcalls, keycolumns=join_on1, jointype=joining)\n",
    "\n",
    "#new_path = 's3://pske-stg-advanalytics/Projects/Unit_Sale_Risk_Interns/Data/Processed/base_repair_roadcall/'\n",
    "#s3_helper.persist_file_to_path(df=base_repair_roadcall, path=new_path, filetype='parquet')"
   ]
  },
  {
   "cell_type": "code",
   "execution_count": null,
   "metadata": {},
   "outputs": [],
   "source": [
    "\n",
    "\n",
    "#base_repair_roadcall_oil = left_join(prepped_df=base_repair_roadcall, prepped_df2=prepped_job_oil, keycolumns= join_on2)\n",
    "\n",
    "#repair_roadoil_path = 's3://pske-stg-advanalytics/Projects/Unit_Sale_Risk_Interns/Data/Processed/base_repair_roadcall_oil/'\n",
    "#s3_helper.persist_file_to_path(df=base_repair_roadcall_oil, path=repair_roadoil_path, filetype='parquet')"
   ]
  },
  {
   "cell_type": "code",
   "execution_count": null,
   "metadata": {},
   "outputs": [],
   "source": [
    "base_repair_roadcall_oil = s3_helper.read_parquet_from_path('s3://pske-stg-advanalytics/Projects/Unit_Sale_Risk_Interns/Data/Processed/base_repair_roadcall_oil/')"
   ]
  },
  {
   "cell_type": "code",
   "execution_count": null,
   "metadata": {},
   "outputs": [],
   "source": []
  },
  {
   "cell_type": "code",
   "execution_count": null,
   "metadata": {},
   "outputs": [],
   "source": [
    "replacing_cont = ['road_call_cnt', 'downtime', 'handle_time', 'customer_rebilled_cnt', 'po_amt']\n",
    "base_repair_roadcall_oil_prep = ut.removing_blanks(base_repair_roadcall_oil, replacing_cont)\n",
    "base_repair_roadcall_oil_prep\n",
    "\n",
    "#base_repair_roadcall_oil_prep_path = 's3://pske-stg-advanalytics/Projects/Unit_Sale_Risk_Interns/Data/Processed/base_repair_roadcall_oil_prep/'\n",
    "#s3_helper.persist_file_to_path(df=base_repair_roadcall_oil_prep, path=base_repair_roadcall_oil_prep_path, filetype='parquet')"
   ]
  },
  {
   "cell_type": "code",
   "execution_count": null,
   "metadata": {},
   "outputs": [],
   "source": [
    "#assuming ...oil_prep is properly cleaned"
   ]
  },
  {
   "cell_type": "code",
   "execution_count": null,
   "metadata": {},
   "outputs": [],
   "source": [
    "prepped_pm_combined = s3_helper.read_parquet_from_path('s3://pske-stg-advanalytics/Projects/Unit_Sale_Risk_Interns/Data/Processed/pm_combined_prepped/').sample(n = 100000)\n",
    "\n",
    "reading_base_repair_roadcall_oil_prep = s3_helper.read_parquet_from_path('s3://pske-stg-advanalytics/Projects/Unit_Sale_Risk_Interns/Data/Processed/base_repair_roadcall_oil_prep/').sample(n = 100000)"
   ]
  },
  {
   "cell_type": "code",
   "execution_count": null,
   "metadata": {},
   "outputs": [],
   "source": [
    "base_repair_roadcall_oil_prep_joined = ut.join(prepped_df=reading_base_repair_roadcall_oil_prep, prepped_df2=prepped_pm_combined, jointype=joining, keycolumns= join_on2)\n",
    "base_repair_roadcall_oil_prep_joined"
   ]
  },
  {
   "cell_type": "code",
   "execution_count": null,
   "metadata": {},
   "outputs": [],
   "source": [
    "#base_repair_roadcall_oil_prep_joined_path = 's3://pske-stg-advanalytics/Projects/Unit_Sale_Risk_Interns/Data/Processed/base_repair_roadcall_oil_prep_joined/'\n",
    "#s3_helper.persist_file_to_path(df=base_repair_roadcall_oil_prep_joined, path=base_repair_roadcall_oil_prep_joined_path, filetype='parquet')"
   ]
  },
  {
   "cell_type": "code",
   "execution_count": null,
   "metadata": {},
   "outputs": [],
   "source": [
    "prepped_bill_date = s3_helper.read_parquet_from_path('s3://pske-stg-advanalytics/Projects/Unit_Sale_Risk_Interns/Data/Processed/bill_date_prepped/')\n",
    "\n",
    "base_repair_roadcall_oil_pm_bill = ut.join(prepped_df=base_repair_roadcall_oil_prep_joined, prepped_df2=prepped_bill_date, keycolumns= join_on2, jointype=joining)\n",
    "base_repair_roadcall_oil_pm_bill\n",
    "#base_repair_roadcall_oil_pm_bill_path = 's3://pske-stg-advanalytics/Projects/Unit_Sale_Risk_Interns/Data/Processed/base_repair_roadcall_oil_pm_bill/'\n",
    "#s3_helper.persist_file_to_path(df=base_repair_roadcall_oil_pm_bill, path=base_repair_roadcall_oil_pm_bill_path, filetype='parquet')"
   ]
  },
  {
   "cell_type": "code",
   "execution_count": null,
   "metadata": {},
   "outputs": [],
   "source": []
  },
  {
   "cell_type": "code",
   "execution_count": null,
   "metadata": {},
   "outputs": [],
   "source": [
    "def editing_final(file):\n",
    "    '''\n",
    "        \n",
    "    '''\n",
    "    df = file\n",
    "    mode_val_fill = ['unit_size', 'unit_fuel_type']\n",
    "\n",
    "    df['unit_sold_pk'] = df['unit_sold_date'].dt.year *100 + df['unit_sold_date'].dt.month\n",
    "    df[df['partition_key']<=df['unit_sold_pk']]\n",
    "    df['billed_pk'].fillna(0, inplace=True)\n",
    "    df.sort_values(by=['unit_num', 'partition_key'], ascending=(False, False), inplace=True)\n",
    "\n",
    "    # -------------------------------------------------------------------------------- NOTEBOOK-CELL: CODE\n",
    "    '''\n",
    "    - Convert partition_key to date\n",
    "    - Get timelapse between last record in EOM and current record, for grouping purpose in final query\n",
    "    '''\n",
    "    df['partition_date'] = pd.to_datetime(df['partition_key'], format='%Y%m')\n",
    "    df['last_date'] = df.groupby('unit_num')['partition_date'].transform('first')\n",
    "    df['time_lapse_month'] = np.round((df['last_date'] - df['partition_date'])/np.timedelta64(1,'M'))\n",
    "\n",
    "    # -------------------------------------------------------------------------------- NOTEBOOK-CELL: CODE\n",
    "    '''\n",
    "    Dropping unnecesary columns and filling categorical null values in columns with mode of columns\n",
    "    '''\n",
    "    df.drop(columns=['last_billed_date', 'last_date', 'partition_date'], inplace=True)\n",
    "\n",
    "    for col in mode_val_fill:\n",
    "        df[col].fillna(df[col].mode()[0],inplace=True)\n",
    "\n",
    "    # -------------------------------------------------------------------------------- NOTEBOOK-CELL: CODE\n",
    "    combined_df = df # For this sample code, simply copy input to output\n",
    "    return combined_df\n",
    "\n",
    "#read_base_repair_roadcall_oil_pm_bill = s3_helper.read_parquet_from_path('s3://pske-stg-advanalytics/Projects/Unit_Sale_Risk_Interns/Data/Processed/base_repair_roadcall_oil_pm_bill/')\n",
    "prefinal_data = editing_final(file=base_repair_roadcall_oil_pm_bill)\n",
    "prefinal_data\n",
    "\n",
    "#prefinal_data_path = 's3://pske-stg-advanalytics/Projects/Unit_Sale_Risk_Interns/Data/Processed/prefinal_data/'\n",
    "#s3_helper.persist_file_to_path(df=prefinal_data, path=prefinal_data_path, filetype='parquet')"
   ]
  },
  {
   "cell_type": "code",
   "execution_count": null,
   "metadata": {},
   "outputs": [],
   "source": []
  },
  {
   "cell_type": "code",
   "execution_count": null,
   "metadata": {},
   "outputs": [],
   "source": [
    "def finalized_data(file):\n",
    "    '''\n",
    "        \n",
    "    '''\n",
    "    \n",
    "    df = file\n",
    "    df['total_cost'] = df['parts_cost'] + df['labor_cost'] + df['outside_cost']\n",
    "\n",
    "    # -------------------------------------------------------------------------------- NOTEBOOK-CELL: CODE\n",
    "    merged = sqldf('''select \n",
    "        unit_num, \n",
    "        sum(case when time_lapse_month between 1 and 24 then total_cost else 0 end) as Tot_cost_24,\n",
    "        sum(case when time_lapse_month between 1 and 12 then total_cost else 0 end) as Tot_cost_12,\n",
    "        sum(case when time_lapse_month between 1 and 6 then total_cost else 0 end) as Tot_cost_6,\n",
    "        sum(case when time_lapse_month between 1 and 3 then total_cost else 0 end) as Tot_cost_3,\n",
    "        avg(case when time_lapse_month between 1 and 24 then total_cost else 0 end) as AvgT_cost_24,\n",
    "        avg(case when time_lapse_month between 1 and 12 then total_cost else 0 end) as AvgT_cost_12,\n",
    "        avg(case when time_lapse_month between 1 and 6 then total_cost else 0 end) as AvgT_cost_6,\n",
    "        avg(case when time_lapse_month between 1 and 3 then total_cost else 0 end) as AvgT_cost_3,\n",
    "        sum(case when time_lapse_month between 1 and 12 then outside_cost else 0 end) as Outside_cost_12,\n",
    "        sum(case when time_lapse_month between 1 and 12 then handle_time else 0 end ) as total_time_call_12,\n",
    "        sum(case when time_lapse_month between 1 and 12 then road_call_cnt else 0 end ) as total_call_12,\n",
    "        sum(case when time_lapse_month between 1 and 12 then po_amt else 0 end ) as total_po_sum_12,\n",
    "        sum(case when time_lapse_month between 1 and 12 then customer_rebilled_cnt else 0 end ) as time_customer_billed_12,\n",
    "\n",
    "        sum(total_cost) as LTD_Total_cost,\n",
    "        sum(labor_cost) as LTD_Labour_cost,\n",
    "        sum(outside_cost) as LTD_Outside_cost,\n",
    "        sum(parts_cost) as LTD_Parts_cost,\n",
    "        sum(big_repair) as LTD_Big_repair,\n",
    "        sum(major_pm) as LTD_Major_PM,\n",
    "        sum(road_call_cnt) as LTD_Road_calls,\n",
    "        sum(handle_time) as LTD_Handle_time,\n",
    "        sum(total_repairs) as LTD_TOTAL_REPAIRS,\n",
    "        sum(customer_rebilled_cnt) as LTD_customer_rebilled,\n",
    "        sum(po_amt) as LTD_PO_Amount,\n",
    "        sum(LABOR_HOURS) as LTD_Labour_hours,\n",
    "        sum(accidentsinci) as LTD_Accients_incidents,\n",
    "        avg(pm_early_ontime_percent) as avg_pm_ontime_percent,\n",
    "        avg(critical_oil_sample_percentage) as avg_critical_oil_sample_percent,\n",
    "\n",
    "        (sum(case when time_lapse_month between 0 and 6 then total_cost else 0 end) - sum(case when time_lapse_month between 7 and 12 then total_cost else 0 end) ) diff_prev6,\n",
    "        (sum(case when time_lapse_month between 0 and 12 then total_cost else 0 end) - sum(case when time_lapse_month between 13 and 24 then total_cost else 0 end) ) diff_prev12,\n",
    "        (sum(case when time_lapse_month between 0 and 3 then total_cost else 0 end) - sum(case when time_lapse_month between 4 and 6 then total_cost else 0 end) ) diff_prev3,\n",
    "        avg(case when time_lapse_month == 0 then miles end) - avg(case when time_lapse_month == 6 then miles end) as milesdiff_1_6,\n",
    "        (avg(case when time_lapse_month == 0 then total_cost end) - avg(case when time_lapse_month == 6 then total_cost end))/(avg(case when time_lapse_month == 0 then MILES end) - avg(case when time_lapse_month == 6 then MILES end)) as costPermile_1diff6,\n",
    "        -- avg(case when time_lapse_month == 0 then ENGINE_HRS end) - avg(case when final_rank == 6 then ENGINE_HRS end) as Enginehrs_diff_1_6,\n",
    "        (sum(case when time_lapse_month between 0 and 6 then total_repairs else 0 end) - sum(case when time_lapse_month between 7 and 12 then total_repairs else 0 end) ) Repairs_diff_prev6,\n",
    "        -- avg( case when time_lapse_month == 0 then miles end)/avg(case when time_lapse_month == 0 then ENGINE_HRS end) as  cycle_time,\n",
    "\n",
    "        -- (avg( case when time_lapse_month == 0 then miles end)/avg(case when time_lapse_month == 0 then engine_hrs end) - avg( case when time_lapse_month == 7 then miles end)/avg(case when time_lapse_month == 7 then engine_hrs end) ) as duty_cycle_change6months,\n",
    "        avg(case when time_lapse_month == 0 then miles end) as Curr_miles,\n",
    "        -- avg(case when time_lapse_month == 0 then engine_hrs end ) as curr_engine_hrs,\n",
    "        avg(case when time_lapse_month == 0 then vehicle_age_total_months end ) as cur_vintage,\n",
    "\n",
    "        sum(case when time_lapse_month between 0 and 24 then major_pm end) as MajorPM_24_sum,\n",
    "        count(distinct location) as dloc_nt, \n",
    "        count(distinct region ) as dregion_cnt, \n",
    "        count(distinct area) as darea_cnt ,\n",
    "\n",
    "        max(case when time_lapse_month = 0 then location end ) as LOCATION,\n",
    "        max(case when time_lapse_month = 0 then area end ) as AREA,\n",
    "        max(case when time_lapse_month = 0 then region end) as REGION,\n",
    "        max(case when time_lapse_month = 0 then district end) as DISTRICT,\n",
    "        max(case when time_lapse_month = 0 then unit_category end) as UNIT_CATEGORY,\n",
    "        max(case when time_lapse_month = 0 then unit_size end) as UNIT_SIZE,\n",
    "        max(case when time_lapse_month = 0 then product_line end) as PRODUCT_LINE,\n",
    "        max(case when time_lapse_month = 0 then unit_make_code end) as UNIT_MAKE_CODE,\n",
    "        max(case when time_lapse_month = 0 then unit_model_year end) as UNIT_MODEL_YEAR,\n",
    "        max(case when time_lapse_month = 0 then unit_fuel_type end ) as UNIT_FUEL_TYPE,\n",
    "        max(case when time_lapse_month = 0 then unit_body_type end ) as UNIT_BODY_TYPE,\n",
    "        max(unit_sold_date) as UNIT_SOLD_DATE\n",
    "    from \n",
    "        df\n",
    "    group by unit_num\n",
    "    ''')\n",
    "    finalized_data_df = merged\n",
    "    \n",
    "    return finalized_data_df\n",
    "\n",
    "#read_prefinal_data = s3_helper.read_parquet_from_path('s3://pske-stg-advanalytics/Projects/Unit_Sale_Risk_Interns/Data/Processed/prefinal_data/')\n",
    "final_data = finalized_data(file=prefinal_data)\n",
    "final_data\n",
    "\n",
    "#final_data_path = 's3://pske-stg-advanalytics/Projects/Unit_Sale_Risk_Interns/Data/Processed/final_data/'\n",
    "#s3_helper.persist_file_to_path(df=final_data, path=final_data_path, filetype='parquet')"
   ]
  },
  {
   "cell_type": "code",
   "execution_count": null,
   "metadata": {},
   "outputs": [],
   "source": [
    "post_sale_prepped = s3_helper.read_parquet_from_path('s3://pske-stg-advanalytics/Projects/Unit_Sale_Risk_Interns/Data/Processed/postsaleissue_cleaned/')\n",
    "\n",
    "#read_final_data = s3_helper.read_parquet_from_path('s3://pske-stg-advanalytics/Projects/Unit_Sale_Risk_Interns/Data/Processed/final_data/')\n",
    "\n",
    "with_target = ut.join(prepped_df=final_data, prepped_df2=post_sale_prepped, jointype=joining, keycolumns= join_on2)\n",
    "#with_target_path = 's3://pske-stg-advanalytics/Projects/Unit_Sale_Risk_Interns/Data/Processed/base_repair_roadcall_oil/'\n",
    "#s3_helper.persist_file_to_path(df=with_target, path=with_target_path, filetype='parquet')"
   ]
  },
  {
   "cell_type": "code",
   "execution_count": null,
   "metadata": {},
   "outputs": [],
   "source": [
    "filtering_with_target = with_target.query(\"UNIT_CATEGORY in ('TRUCK', 'TRACTOR', 'TRAILER') \")"
   ]
  },
  {
   "cell_type": "code",
   "execution_count": null,
   "metadata": {},
   "outputs": [],
   "source": [
    "replacing_final = ['flag_cameback']\n",
    "filterdataset = ut.removing_blanks(filtering_with_target, replacing_final)\n",
    "filterdataset['UNIT_SOLD_DATE'] = pd.to_datetime(filterdataset['UNIT_SOLD_DATE'], format='%Y-%m-%d %H:%M:%S.%f').sort_index()\n",
    "\n",
    "filterdataset['UNIT_SOLD_DATE']"
   ]
  },
  {
   "cell_type": "code",
   "execution_count": null,
   "metadata": {},
   "outputs": [],
   "source": [
    "#filterdataset.Start = pd.to_datetime()\n",
    "target = pd.date_range('2019-01-01', '2022-01-01')\n",
    "filterdataset['unit_sold_flag'] = np.where(filterdataset['UNIT_SOLD_DATE'].isin(target), 1, 0)\n",
    "filteringdataset = filterdataset[filterdataset['unit_sold_flag'] == 1]\n",
    "filterdf = filteringdataset.drop(columns=['unit_sold_flag'], inplace=True)\n",
    "\n",
    "#target2 = pd.date_range('2021-09-01', '2021-12-31')\n",
    "#filterdf['outvalidation_flag'] = np.where(filterdataset['UNIT_SOLD_DATE'].isin(target2), 1, 0 )\n",
    "#filterdf2 = filterdf[filterdf['outvalidation_flag'] == 1]\n",
    "#filterdf2 = filterdf.drop(columns=[unit])\n",
    "\n",
    "start = '2021-09-01'\n",
    "end = '2021-12-31'\n",
    "test = (filterdf['UNIT_SOLD_DATE'] > start) | (filterdf['UNIT_SOLD_DATE'] <= end)\n",
    "\n",
    "df = filterdf.loc[test]"
   ]
  },
  {
   "cell_type": "code",
   "execution_count": null,
   "metadata": {},
   "outputs": [],
   "source": [
    "filteringdataset[filteringdataset['outvalidation_flag'] == 1 ]"
   ]
  },
  {
   "cell_type": "code",
   "execution_count": null,
   "metadata": {},
   "outputs": [],
   "source": []
  }
 ],
 "metadata": {
  "instance_type": "ml.t3.medium",
  "kernelspec": {
   "display_name": "Python 3 (Data Science)",
   "language": "python",
   "name": "python3__SAGEMAKER_INTERNAL__arn:aws:sagemaker:us-east-1:081325390199:image/datascience-1.0"
  },
  "language_info": {
   "codemirror_mode": {
    "name": "ipython",
    "version": 3
   },
   "file_extension": ".py",
   "mimetype": "text/x-python",
   "name": "python",
   "nbconvert_exporter": "python",
   "pygments_lexer": "ipython3",
   "version": "3.7.10"
  }
 },
 "nbformat": 4,
 "nbformat_minor": 4
}
