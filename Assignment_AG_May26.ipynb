{
 "cells": [
  {
   "cell_type": "code",
   "execution_count": 35,
   "metadata": {},
   "outputs": [],
   "source": [
    "import sagemaker\n",
    "import boto3\n",
    "from sagemaker import get_execution_role\n",
    "import numpy as np\n",
    "import pandas as pd\n",
    "import pyarrow.parquet as par\n"
   ]
  },
  {
   "cell_type": "code",
   "execution_count": 36,
   "metadata": {},
   "outputs": [
    {
     "name": "stdout",
     "output_type": "stream",
     "text": [
      "us-east-1\n"
     ]
    }
   ],
   "source": [
    "region = boto3.Session().region_name\n",
    "print(region)"
   ]
  },
  {
   "cell_type": "code",
   "execution_count": 37,
   "metadata": {},
   "outputs": [
    {
     "name": "stdout",
     "output_type": "stream",
     "text": [
      "SELECT\n",
      "\tunit.UNIT_NUM,\n",
      "\tagg.PARTITION_KEY AS PARTITION_KEY,\n",
      "\tveh.VEHICLE_AGE_TOTAL_MONTHS,\n",
      "\tloc.REGN_NUM || '-' || loc.REGN_NM AS REGION,\n",
      "\tloc.AREA_NUM || '-' || loc.AREA_NM AS AREA,\n",
      "\tloc.RDIST_NUM || '-' || loc.RDIST_SUFX || '-' || loc.RDIST_NM AS DISTRICT,\n",
      "\tloc.DIST_NUM || '-' || loc.DIST_SUFX || '-' || loc.DIST_NM AS LOCATION,\n",
      "\tunit.UNIT_MAKE_CODE,\n",
      "\tunit.UNIT_MODEL,\n",
      "\tunit.UNIT_MODEL_YEAR,\n",
      "\tunit.UNIT_CATEGORY,\n",
      "\tunit.UNIT_SIZE,\n",
      "\tunit.UNIT_BODY_TYPE,\n",
      "\tunit.UNIT_FUEL_TYPE,\n",
      "\tunit.ACT_VEH_INSERVDT,\n",
      "\tacc.ACCOUNT_CODE_GROUP1 AS PRODUCT_LINE,\n",
      "\tunit.UNIT_SOLD_DATE ,\n",
      "\t'model_build' AS flag_datatype,\n",
      "\tMAX(agg.LTD_MILES) AS MILES\n",
      "FROM\n",
      "\tptledw_playarea.F_AGG_UNITCOST_EOM agg\n",
      "\tJOIN ptledw_playarea.D_UNIT unit ON\n",
      "\t\tunit.UNIT_KEY = agg.UNIT_KEY\n",
      "\tJOIN ptledw_playarea.D_VEHICLE_AGE veh ON\n",
      "\t\tagg.ACT_VEHICLE_AGE_KEY = veh.vehicle_age_key\n",
      "\tJOIN ptledw_playarea.D_ACCOUNT_CODE acc ON\n",
      "\t\tagg.ACCOUNT_CODE_KEY = acc.ACCOUNT_CODE_KEY\n",
      "\tJOIN ptledw_playarea.D_LOCATION_MASTER loc ON\n",
      "\t\tagg.LOCATION_MASTER_KEY = loc.LOCATION_MASTER_KEY\n",
      "WHERE\n",
      "\tunit.UNIT_CORP_CD IN ('2000', 'HPTL')\n",
      "\tAND LTRIM(RTRIM(unit.UNIT_CATEGORY)) IN ('TRUCK', 'TRACTOR', 'TRAILER')\n",
      "\tAND unit.UNIT_SOLD_DATE BETWEEN DATE '2019-01-01' AND CURRENT_DATE\n",
      "GROUP BY\n",
      "\tunit.UNIT_NUM,\n",
      "\tagg.PARTITION_KEY,\n",
      "\tveh.VEHICLE_AGE_TOTAL_MONTHS,\n",
      "\tloc.REGN_NUM || '-' || loc.REGN_NM,\n",
      "\tloc.AREA_NUM || '-' || loc.AREA_NM ,\n",
      "\tloc.RDIST_NUM || '-' || loc.RDIST_SUFX || '-' || loc.RDIST_NM ,\n",
      "\tloc.DIST_NUM || '-' || loc.DIST_SUFX || '-' || loc.DIST_NM,\n",
      "\tunit.UNIT_MAKE_CODE,\n",
      "\tunit.UNIT_MODEL,\n",
      "\tunit.UNIT_MODEL_YEAR,\n",
      "\tunit.UNIT_CATEGORY,\n",
      "\tunit.UNIT_SIZE,\n",
      "\tunit.UNIT_BODY_TYPE,\n",
      "\tunit.UNIT_FUEL_TYPE,\n",
      "\tunit.ACT_VEH_INSERVDT,\n",
      "\tacc.ACCOUNT_CODE_GROUP1,\n",
      "\tunit.UNIT_SOLD_DATE\n",
      "ORDER BY\n",
      "\tunit.UNIT_NUM,\n",
      "\tagg.PARTITION_KEY,\n",
      "\tveh.VEHICLE_AGE_TOTAL_MONTHS\n"
     ]
    }
   ],
   "source": [
    "#Query string from a file, essentially\n",
    "region = boto3.Session().region_name\n",
    "s3 = boto3.client('s3', region)\n",
    "bucket_name = \"pske-stg-advanalytics\" #hardcoded, not preferred (use YAML files)\n",
    "file = \"Projects/Unit_Sale_Risk_Interns/Data/Athena_query/base_query.txt\" #hardcoded, not preferred (use YAML files)\n",
    "file_obj = s3.get_object(Bucket=bucket_name,Key=file) #retrieves from S3\n",
    "file_data = file_obj['Body'].read() #reads contents of file\n",
    "file_str = file_data.decode() #method used to decode strings, which the file is\n",
    "print(file_str)"
   ]
  },
  {
   "cell_type": "code",
   "execution_count": null,
   "metadata": {},
   "outputs": [
    {
     "name": "stdout",
     "output_type": "stream",
     "text": [
      "Checking query status\n",
      "Current status: QUEUED\n",
      "Current status: RUNNING\n",
      "Current status: RUNNING\n",
      "Current status: RUNNING\n",
      "Current status: RUNNING\n",
      "Current status: RUNNING\n",
      "Current status: RUNNING\n",
      "Current status: RUNNING\n",
      "Current status: RUNNING\n",
      "Current status: RUNNING\n",
      "Current status: RUNNING\n",
      "Current status: RUNNING\n",
      "Current status: RUNNING\n",
      "Current status: RUNNING\n",
      "Current status: RUNNING\n",
      "Current status: RUNNING\n",
      "Current status: RUNNING\n",
      "Current status: RUNNING\n",
      "Current status: RUNNING\n",
      "Current status: RUNNING\n",
      "Current status: RUNNING\n",
      "Current status: RUNNING\n",
      "Current status: RUNNING\n",
      "Current status: RUNNING\n",
      "Current status: RUNNING\n",
      "Current status: RUNNING\n",
      "Current status: RUNNING\n",
      "Current status: RUNNING\n",
      "Current status: RUNNING\n",
      "Current status: RUNNING\n",
      "Current status: RUNNING\n",
      "Current status: RUNNING\n",
      "Current status: RUNNING\n",
      "Current status: RUNNING\n",
      "Current status: RUNNING\n",
      "Current status: RUNNING\n",
      "Current status: RUNNING\n",
      "Current status: RUNNING\n",
      "Current status: RUNNING\n",
      "Current status: RUNNING\n",
      "Current status: RUNNING\n",
      "Current status: RUNNING\n",
      "Current status: RUNNING\n",
      "Current status: RUNNING\n",
      "Current status: RUNNING\n",
      "Current status: SUCCEEDED\n"
     ]
    }
   ],
   "source": [
    "#from scrapbook\n",
    "import sys\n",
    "sys.path.extend(['../src', '../config'])\n",
    "import helpers.instance as ins\n",
    "import helpers.s3 as s3_helper\n",
    "import helpers.utils as ut\n",
    "import helpers.athena as at\n",
    "import helpers.athena as at\n",
    "\n",
    "database=['ptledw_playarea', 'ptl_maintenance', 'ptl_connfleet', 'proactive_maint_db', 'ptl_adhoc']\n",
    "workgroup='WG-Advanalytics'\n",
    "\n",
    "# df = at.get_data_from_athena(region=region,  query_string='select * from ptledw_playarea.d_location_master', \n",
    "df = at.get_data_from_athena(region=region,  query_string=file_str, \n",
    "                                      database=database[0],\n",
    "                                      workgroup=workgroup)\n",
    "path = ['s3://pske-stg-advanalytics/Projects/Unit_Sale_Risk_Interns/Data/Interim/location_master/']\n",
    "s3_helper.persist_file_to_path(df=df,\n",
    "                       path=path[0],\n",
    "                       filetype='parquet')\n",
    "df2 = s3_helper.read_parquet_from_path(path=path[0])\n",
    "df2"
   ]
  },
  {
   "cell_type": "markdown",
   "metadata": {},
   "source": []
  },
  {
   "cell_type": "code",
   "execution_count": null,
   "metadata": {},
   "outputs": [],
   "source": []
  }
 ],
 "metadata": {
  "instance_type": "ml.t3.medium",
  "kernelspec": {
   "display_name": "Python 3 (Data Science)",
   "language": "python",
   "name": "python3__SAGEMAKER_INTERNAL__arn:aws:sagemaker:us-east-1:081325390199:image/datascience-1.0"
  },
  "language_info": {
   "codemirror_mode": {
    "name": "ipython",
    "version": 3
   },
   "file_extension": ".py",
   "mimetype": "text/x-python",
   "name": "python",
   "nbconvert_exporter": "python",
   "pygments_lexer": "ipython3",
   "version": "3.7.10"
  }
 },
 "nbformat": 4,
 "nbformat_minor": 4
}
